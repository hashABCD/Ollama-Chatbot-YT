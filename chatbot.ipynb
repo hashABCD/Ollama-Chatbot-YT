{
 "cells": [
  {
   "cell_type": "code",
   "execution_count": null,
   "metadata": {},
   "outputs": [],
   "source": [
    "! pip install langchain-ollama\n",
    "! pip install langchain-core"
   ]
  },
  {
   "cell_type": "markdown",
   "metadata": {},
   "source": [
    "### Import libraries"
   ]
  },
  {
   "cell_type": "code",
   "execution_count": 8,
   "metadata": {},
   "outputs": [],
   "source": [
    "from langchain_ollama import OllamaLLM\n",
    "from langchain_core.prompts import ChatPromptTemplate"
   ]
  },
  {
   "cell_type": "markdown",
   "metadata": {},
   "source": [
    "Define model"
   ]
  },
  {
   "cell_type": "code",
   "execution_count": 5,
   "metadata": {},
   "outputs": [],
   "source": [
    "model = OllamaLLM(model=\"llama3.1\")"
   ]
  },
  {
   "cell_type": "markdown",
   "metadata": {},
   "source": [
    "Define prompt template"
   ]
  },
  {
   "cell_type": "code",
   "execution_count": 14,
   "metadata": {},
   "outputs": [],
   "source": [
    "template = \"\"\"\n",
    "You are an Assistant, answer the user question below be concise and don't make up answers if you don't have \n",
    "sufficient information\n",
    "\n",
    "Here is the chat history : {context}\n",
    "\n",
    "User question : {user_q}\n",
    "\"\"\"\n",
    "prompt_template = ChatPromptTemplate.from_template(template)"
   ]
  },
  {
   "cell_type": "code",
   "execution_count": 10,
   "metadata": {},
   "outputs": [
    {
     "data": {
      "text/plain": [
       "'Joe Biden (as of my last update in 2021). I may not have real-time information.'"
      ]
     },
     "execution_count": 10,
     "metadata": {},
     "output_type": "execute_result"
    }
   ],
   "source": [
    "# prompt = prompt_template.format(user_q=\"Who is the president of USA\")\n",
    "# model.invoke(prompt)"
   ]
  },
  {
   "cell_type": "code",
   "execution_count": 11,
   "metadata": {},
   "outputs": [
    {
     "data": {
      "text/plain": [
       "'As of my knowledge cutoff, Joe Biden is the President of the United States.'"
      ]
     },
     "execution_count": 11,
     "metadata": {},
     "output_type": "execute_result"
    }
   ],
   "source": [
    "chain = prompt_template | model \n",
    "chain.invoke({\"user_q\":\"Who is the president of USA\"})"
   ]
  },
  {
   "cell_type": "code",
   "execution_count": 15,
   "metadata": {},
   "outputs": [
    {
     "name": "stdout",
     "output_type": "stream",
     "text": [
      "Welcome to ollama bot, press 'Q' to exit!\n",
      "Paris.\n",
      "Some major attractions in Paris include:\n",
      "\n",
      "* The Eiffel Tower\n",
      "* The Louvre Museum\n",
      "* Notre Dame Cathedral\n",
      "* Arc de Triomphe\n",
      "* Champs-Élysées\n",
      "3-4 days are typically recommended to explore the major attractions in Paris, considering travel time and desired depth of exploration.\n",
      "Bye...\n"
     ]
    }
   ],
   "source": [
    "context = \"\"\n",
    "print(\"Welcome to ollama bot, press 'Q' to exit!\")\n",
    "while True:\n",
    "    user_input = input(\"Enter your question\")\n",
    "    if user_input.lower() == 'q':\n",
    "        print(\"Bye...\")\n",
    "        break\n",
    "    chain = prompt_template | model \n",
    "    bot_respose = chain.invoke({\"user_q\":user_input, \"context\":context})\n",
    "    context += \"\\n\".join([f\"user : {user_input}\",f\"bot : {bot_respose}\"])\n",
    "    print(bot_respose)"
   ]
  },
  {
   "cell_type": "code",
   "execution_count": null,
   "metadata": {},
   "outputs": [],
   "source": []
  }
 ],
 "metadata": {
  "kernelspec": {
   "display_name": ".venv",
   "language": "python",
   "name": "python3"
  },
  "language_info": {
   "codemirror_mode": {
    "name": "ipython",
    "version": 3
   },
   "file_extension": ".py",
   "mimetype": "text/x-python",
   "name": "python",
   "nbconvert_exporter": "python",
   "pygments_lexer": "ipython3",
   "version": "3.12.6"
  }
 },
 "nbformat": 4,
 "nbformat_minor": 2
}
